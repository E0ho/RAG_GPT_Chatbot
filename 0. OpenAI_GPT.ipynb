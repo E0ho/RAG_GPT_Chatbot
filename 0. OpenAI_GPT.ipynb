{
 "cells": [
  {
   "cell_type": "code",
   "execution_count": 1,
   "metadata": {},
   "outputs": [],
   "source": [
    "from openai import OpenAI\n",
    "import os"
   ]
  },
  {
   "cell_type": "code",
   "execution_count": 5,
   "metadata": {},
   "outputs": [],
   "source": [
    "# GPT API key 가져오기\n",
    "api_key = os.getenv(\"OPENAI_API_KEY\")"
   ]
  },
  {
   "cell_type": "code",
   "execution_count": 6,
   "metadata": {},
   "outputs": [
    {
     "name": "stdout",
     "output_type": "stream",
     "text": [
      "안녕, 너를 소개해줘\n"
     ]
    }
   ],
   "source": [
    "def get_gpt_response(text):\n",
    "    \n",
    "    # OpenAI API 인스턴스 생성 시 API 키 전달\n",
    "    client = OpenAI(api_key=api_key)\n",
    "\n",
    "    print(text)\n",
    "    \n",
    "    # GPT API에 대화 요청 보내기\n",
    "    response = client.chat.completions.create(\n",
    "        model=\"gpt-3.5-turbo\",\n",
    "        messages=[\n",
    "            {\"role\": \"system\", \"content\": \"You are a helpful assistant.\"},\n",
    "            {\"role\": \"user\", \"content\": text}  # 음성 인식으로 변환된 텍스트 입력\n",
    "        ]\n",
    "    )\n",
    "\n",
    "    return response.choices[0].message\n",
    "\n",
    "\n",
    "# 텍스트 입력\n",
    "text = '안녕, 너를 소개해줘'\n",
    "\n",
    "\n",
    "# GPT API 호출하여 필요한 정보 추출\n",
    "message = get_gpt_response(text)          "
   ]
  },
  {
   "cell_type": "code",
   "execution_count": 7,
   "metadata": {},
   "outputs": [
    {
     "data": {
      "text/plain": [
       "'안녕하세요! 저는 도와드리는 인공지능 애시스턴트입니다. 궁금한 것이 있거나 도움이 필요하시면 언제든지 말씀해주세요. 함께 즐거운 시간 보내요! 😊'"
      ]
     },
     "execution_count": 7,
     "metadata": {},
     "output_type": "execute_result"
    }
   ],
   "source": [
    "message.content "
   ]
  }
 ],
 "metadata": {
  "kernelspec": {
   "display_name": ".venv312",
   "language": "python",
   "name": "python3"
  },
  "language_info": {
   "codemirror_mode": {
    "name": "ipython",
    "version": 3
   },
   "file_extension": ".py",
   "mimetype": "text/x-python",
   "name": "python",
   "nbconvert_exporter": "python",
   "pygments_lexer": "ipython3",
   "version": "3.11.7"
  }
 },
 "nbformat": 4,
 "nbformat_minor": 2
}
